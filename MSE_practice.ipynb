{
 "cells": [
  {
   "cell_type": "code",
   "execution_count": 1,
   "metadata": {},
   "outputs": [],
   "source": [
    "from sklearn.metrics import mean_squared_error\n",
    "from scipy.io import loadmat\n",
    "import numpy\n",
    "import cv2\n"
   ]
  },
  {
   "cell_type": "code",
   "execution_count": 2,
   "metadata": {},
   "outputs": [],
   "source": [
    "mnist_data = loadmat('mnist-original.mat')"
   ]
  },
  {
   "cell_type": "code",
   "execution_count": 3,
   "metadata": {},
   "outputs": [
    {
     "name": "stdout",
     "output_type": "stream",
     "text": [
      "(70000, 784)\n",
      "(70000, 1)\n",
      "70000\n",
      "[[0.]\n",
      " [0.]\n",
      " [0.]\n",
      " ...\n",
      " [9.]\n",
      " [9.]\n",
      " [9.]]\n"
     ]
    }
   ],
   "source": [
    "\n",
    "data = numpy.array(mnist_data['data'].T)\n",
    "labels = numpy.array(mnist_data['label'].T)\n",
    "print(data.shape)\n",
    "print(labels.shape)\n",
    "print(len(labels))\n",
    "print(labels)"
   ]
  },
  {
   "cell_type": "code",
   "execution_count": 15,
   "metadata": {},
   "outputs": [
    {
     "name": "stdout",
     "output_type": "stream",
     "text": [
      "[3.]\n",
      "Found a 3\n",
      "[3.]\n",
      "Found a 3\n",
      "[8.]\n",
      "Found an 8\n"
     ]
    }
   ],
   "source": [
    "athreefound = 0\n",
    "aneightfound = 0\n",
    "\n",
    "for i in range(len(labels)):\n",
    "    # print(i)\n",
    "    if labels[i] == 3 and athreefound == 0:\n",
    "        print(labels[i])\n",
    "        print(\"Found a 3\")\n",
    "        athree = data[i].reshape(28,28)\n",
    "        athreefound = 1\n",
    "        continue\n",
    "\n",
    "    if labels[i] == 3 and athreefound == 1:\n",
    "        print(labels[i])\n",
    "        print(\"Found a 3\")\n",
    "        anotherthree = data[i].reshape(28,28)\n",
    "        athreefound = 2\n",
    "        continue\n",
    "\n",
    "    if labels[i] == 8 and aneightfound == 0:\n",
    "        print(labels[i])\n",
    "        print(\"Found an 8\")\n",
    "        aneight = data[i].reshape(28,28)\n",
    "        aneightfound = True\n",
    "        continue\n",
    "    if athreefound == True and aneightfound == 1:\n",
    "        break\n"
   ]
  },
  {
   "cell_type": "code",
   "execution_count": 18,
   "metadata": {},
   "outputs": [],
   "source": [
    "cv2.imshow(\"slhglshglsg\", numpy.hstack((athree,aneight, anotherthree)))\n",
    "cv2.waitKey(0)\n",
    "cv2.destroyAllWindows()"
   ]
  },
  {
   "cell_type": "code",
   "execution_count": 17,
   "metadata": {},
   "outputs": [
    {
     "name": "stdout",
     "output_type": "stream",
     "text": [
      "MSE of 3 with 8:  24.19515306122449\n",
      "MSE of 3 with another 3:  23.161989795918366\n"
     ]
    }
   ],
   "source": [
    "print(\"MSE of 3 with 8: \", mean_squared_error(athree,aneight))\n",
    "print(\"MSE of 3 with another 3: \", mean_squared_error(athree,anotherthree))\n"
   ]
  }
 ],
 "metadata": {
  "kernelspec": {
   "display_name": "Python 3.10.5 ('CV_envy')",
   "language": "python",
   "name": "python3"
  },
  "language_info": {
   "codemirror_mode": {
    "name": "ipython",
    "version": 3
   },
   "file_extension": ".py",
   "mimetype": "text/x-python",
   "name": "python",
   "nbconvert_exporter": "python",
   "pygments_lexer": "ipython3",
   "version": "3.10.5"
  },
  "orig_nbformat": 4,
  "vscode": {
   "interpreter": {
    "hash": "659a15acc5c9140fc104a05be70e4ae1c29623de6d2c41c0d128f7a5107d26c7"
   }
  }
 },
 "nbformat": 4,
 "nbformat_minor": 2
}
